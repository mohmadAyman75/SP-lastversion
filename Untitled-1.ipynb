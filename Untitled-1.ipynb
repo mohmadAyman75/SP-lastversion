{
 "cells": [
  {
   "cell_type": "code",
   "execution_count": null,
   "id": "9237de75",
   "metadata": {},
   "outputs": [],
   "source": [
    "import requests\n",
    "\n",
    "from bs4 import BeautifulSoup\n",
    "\n",
    "import csv"
   ]
  },
  {
   "cell_type": "markdown",
   "id": "c581c4ac",
   "metadata": {},
   "source": [
    "this function will used to extract data from any web"
   ]
  },
  {
   "cell_type": "code",
   "execution_count": null,
   "id": "f2d3f64b",
   "metadata": {},
   "outputs": [],
   "source": []
  }
 ],
 "metadata": {
  "language_info": {
   "name": "python"
  }
 },
 "nbformat": 4,
 "nbformat_minor": 5
}
